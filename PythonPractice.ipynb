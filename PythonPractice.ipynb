{
 "cells": [
  {
   "cell_type": "code",
   "execution_count": null,
   "source": [
    "# ) Build a Shopping Cart\n",
    "# You can use either lists or dictionaries. The program should have the following capabilities:\n",
    "\n",
    "# 1) Takes in input\n",
    "# 2) Stores user input into a dictionary or list\n",
    "# 3) The User can add or delete items\n",
    "# 4) The User can see current shopping list\n",
    "# 5) The program Loops until user 'quits'\n",
    "# 6) Upon quiting the program, print out all items in the user's list\n",
    "\n",
    "\n",
    "# Ask the user four bits of input: Do you want to : Show/Add/Delete or Quit?\n",
    "\n",
    "# Functionality: Create a shopping cart which can be modified based on user input. Print final result.\n",
    "# Input: User input of strings\n",
    "# Output: Print statement of returned user input in the form of either a list or a dictionary.\n",
    "# def shoppingcart():\n",
    "#     cartitems= []\n",
    "while True:\n",
    "    prompt= (\"\\tWhat would you like to do?\")\n",
    "    prompt += (\"\\nPress the s key to SHOW items in your cart: \")\n",
    "    prompt += (\"\\nPress the a key to ADD items to your cart: \")\n",
    "    prompt += (\"\\nPress the d key to DELETE items from your cart: \")\n",
    "    prompt += (\"\\nType quit to QUIT: \")\n",
    "    cartcommand= input(prompt)\n",
    "    cartitems= []\n",
    " \n",
    "\n",
    "    if cartcommand == 'quit':\n",
    "            break        \n",
    "    while True: \n",
    "        cartcommand == 'a'\n",
    "        cartitems == cartitems.append(input(\"\\n\\tWhat would you like to add? \"))\n",
    "        print(f\"{cartitems} has been added to your cart!\")\n",
    "     \n",
    "            \n",
    "       \n",
    "\n",
    "        \n",
    "    \n",
    "                \n",
    "  \n",
    "       \n",
    "print(cartcommand)\n",
    "        \n",
    "        \n",
    "        \n",
    "        \n"
   ],
   "outputs": [
    {
     "output_type": "stream",
     "name": "stdout",
     "text": [
      "\tWhat would you like to do?\n",
      "Press the s key to SHOW items in your cart: \n",
      "Press the a key to ADD items to your cart: \n",
      "Press the d key to DELETE items from your cart: \n",
      "Type quit to QUIT: a\n",
      "\n",
      "\tWhat would you like to add? eggs\n",
      "['eggs'] has been added to your cart!\n",
      "\n",
      "\tWhat would you like to add? milk\n",
      "['eggs', 'milk'] has been added to your cart!\n",
      "\n",
      "\tWhat would you like to add? butter\n",
      "['eggs', 'milk', 'butter'] has been added to your cart!\n"
     ]
    }
   ],
   "metadata": {}
  },
  {
   "cell_type": "code",
   "execution_count": null,
   "source": [],
   "outputs": [],
   "metadata": {}
  },
  {
   "cell_type": "code",
   "execution_count": null,
   "source": [],
   "outputs": [],
   "metadata": {}
  },
  {
   "cell_type": "code",
   "execution_count": null,
   "source": [],
   "outputs": [],
   "metadata": {}
  },
  {
   "cell_type": "code",
   "execution_count": null,
   "source": [
    "# Sometimes you won’t know ahead of time how many arguments a function\n",
    "# needs to accept. Fortunately, Python allows a function to collect an arbitrary number of arguments from the calling statement.\n",
    "# For example, consider a function that builds a pizza. It needs to accept a\n",
    "# number of toppings, but you can’t know ahead of time how many toppings\n",
    "# a person will want. The function in the following example has one parameter, *toppings, but this parameter collects as many arguments as the calling\n",
    "# line provides:\n",
    "# pizza.py def make_pizza(*toppings):\n",
    "#  \"\"\"Print the list of toppings that have been requested.\"\"\"\n",
    "#  print(toppings)\n",
    "\n",
    "# make_pizza('pepperoni')\n",
    "# make_pizza('mushrooms', 'green peppers', 'extra cheese')\n",
    "# The asterisk in the parameter name *toppings tells Python to make an\n",
    "# empty tuple called toppings and pack whatever values it receives into this\n",
    "# tuple. The print statement in the function body produces output showing\n",
    "# that Python can handle a function call with one value and a call with three\n",
    "# values. It treats the different calls similarly. Note that Python packs the\n",
    "# arguments into a tuple, even if the function receives only one value:\n",
    "# ('pepperoni',)\n",
    "# ('mushrooms', 'green peppers', 'extra cheese')\n",
    "# Now we can replace the print statement with a loop that runs through\n",
    "# the list of toppings and describes the pizza being ordered:\n",
    "# def make_pizza(*toppings):\n",
    "#  \"\"\"Summarize the pizza we are about to make.\"\"\"\n",
    "#  print(\"\\nMaking a pizza with the following toppings:\")\n",
    "#  for topping in toppings:\n",
    "#  print(\"- \" + topping)\n",
    "\n",
    "# make_pizza('pepperoni')\n",
    "# make_pizza('mushrooms', 'green peppers', 'extra cheese')\n",
    "# The function responds appropriately, whether it receives one value or\n",
    "# three values:\n",
    "# Making a pizza with the following toppings:\n",
    "# - pepperoni\n",
    "# Making a pizza with the following toppings:\n",
    "# - mushrooms\n",
    "# - green peppers\n",
    "# - extra cheese\n",
    "# 152 Chapter 8\n",
    "# This syntax works no matter how many arguments the function\n",
    "# receives."
   ],
   "outputs": [],
   "metadata": {}
  },
  {
   "cell_type": "code",
   "execution_count": null,
   "source": [],
   "outputs": [],
   "metadata": {}
  }
 ],
 "metadata": {
  "kernelspec": {
   "display_name": "Python 3",
   "language": "python",
   "name": "python3"
  },
  "language_info": {
   "codemirror_mode": {
    "name": "ipython",
    "version": 3
   },
   "file_extension": ".py",
   "mimetype": "text/x-python",
   "name": "python",
   "nbconvert_exporter": "python",
   "pygments_lexer": "ipython3",
   "version": "3.8.8"
  }
 },
 "nbformat": 4,
 "nbformat_minor": 5
}